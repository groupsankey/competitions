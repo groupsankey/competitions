{
 "cells": [
  {
   "cell_type": "code",
   "execution_count": 9,
   "id": "51481e4b-dbd2-46a9-9eab-46942295e40f",
   "metadata": {},
   "outputs": [
    {
     "name": "stdout",
     "output_type": "stream",
     "text": [
      "Columns in the DataFrame: Index(['Unnamed: 0', 'basvuru_yili', 'degerlendirme_puani', 'cinsiyet',\n",
      "       'dogum_yeri', 'ikametgah_sehri', 'universite_adi', 'universite_turu',\n",
      "       'burslu_ise_burs_yuzdesi', 'burs_aliyor_mu?', 'bolum',\n",
      "       'universite_kacinci_sinif', 'universite_not_ortalamasi',\n",
      "       'daha_once_baska_bir_universiteden_mezun_olmus', 'lise_adi',\n",
      "       'lise_adi_diger', 'lise_sehir', 'lise_turu', 'lise_bolumu',\n",
      "       'lise_bolum_diger', 'lise_mezuniyet_notu',\n",
      "       'baska_bir_kurumdan_burs_aliyor_mu?', 'burs_aldigi_baska_kurum',\n",
      "       'baska_kurumdan_aldigi_burs_miktari', 'anne_egitim_durumu',\n",
      "       'anne_calisma_durumu', 'baba_egitim_durumu', 'baba_calisma_durumu',\n",
      "       'kardes_sayisi', 'girisimcilik_kulupleri_tarzi_bir_kulube_uye_misiniz?',\n",
      "       'uye_oldugunuz_kulubun_ismi',\n",
      "       'profesyonel_bir_spor_daliyla_mesgul_musunuz?',\n",
      "       'spor_dalindaki_rolunuz_nedir?', 'aktif_olarak_bir_stk_uyesi_misiniz?',\n",
      "       'hangi_stk'nin_uyesisiniz?', 'stk_projesine_katildiniz_mi?',\n",
      "       'girisimcilikle_ilgili_deneyiminiz_var_mi?',\n",
      "       'girisimcilikle_ilgili_deneyiminizi_aciklayabilir_misiniz?',\n",
      "       'ingilizce_biliyor_musunuz?', 'ingilizce_seviyeniz?',\n",
      "       'daha_onceden_mezun_olunduysa,_mezun_olunan_universite', 'id',\n",
      "       'anne_sektor_encoded', 'baba_sektor_encoded', 'anne_Unknown',\n",
      "       'anne_diger', 'anne_kamu', 'anne_ozel sektor', 'baba_Unknown',\n",
      "       'baba_diger', 'baba_kamu', 'baba_ozel sektor', 'age'],\n",
      "      dtype='object')\n",
      "Classification Model Accuracy: 0.20219231604080748\n",
      "Classification Report:\n",
      "               precision    recall  f1-score   support\n",
      "\n",
      "         1.0       0.00      0.00      0.00         4\n",
      "         2.0       0.00      0.00      0.00         2\n",
      "         3.0       0.33      0.50      0.40         4\n",
      "         4.0       0.50      0.27      0.35        11\n",
      "         5.0       0.27      0.62      0.38        95\n",
      "         6.0       0.36      0.77      0.49        86\n",
      "         7.0       0.32      0.85      0.46       237\n",
      "         8.0       0.43      0.57      0.49       154\n",
      "         9.0       0.34      0.66      0.45       138\n",
      "        10.0       0.31      0.25      0.28       134\n",
      "        11.0       0.26      0.32      0.28       119\n",
      "        12.0       0.37      0.46      0.41       274\n",
      "        13.0       0.20      0.21      0.21       156\n",
      "        14.0       0.35      0.34      0.35       236\n",
      "        15.0       0.21      0.25      0.23       177\n",
      "        16.0       0.30      0.27      0.28       188\n",
      "        17.0       0.25      0.20      0.22       137\n",
      "        18.0       0.22      0.26      0.23       229\n",
      "        19.0       0.18      0.19      0.19       190\n",
      "        20.0       0.15      0.14      0.14       259\n",
      "        21.0       0.15      0.13      0.14       173\n",
      "        22.0       0.22      0.34      0.27       291\n",
      "        23.0       0.07      0.08      0.08       167\n",
      "        24.0       0.28      0.39      0.33       251\n",
      "        25.0       0.10      0.06      0.07       148\n",
      "        26.0       0.19      0.24      0.21       242\n",
      "        27.0       0.15      0.12      0.14       204\n",
      "        28.0       0.16      0.16      0.16       291\n",
      "        29.0       0.21      0.15      0.18       185\n",
      "        30.0       0.11      0.10      0.10       234\n",
      "        31.0       0.16      0.14      0.15       153\n",
      "        32.0       0.09      0.08      0.08       222\n",
      "        33.0       0.11      0.09      0.10       184\n",
      "        34.0       0.11      0.13      0.12       194\n",
      "        35.0       0.13      0.11      0.12       160\n",
      "        36.0       0.15      0.14      0.15       242\n",
      "        37.0       0.13      0.08      0.10       168\n",
      "        38.0       0.10      0.10      0.10       217\n",
      "        39.0       0.16      0.10      0.12       148\n",
      "        40.0       0.09      0.08      0.09       161\n",
      "        41.0       0.11      0.09      0.10       163\n",
      "        42.0       0.16      0.12      0.14       183\n",
      "        43.0       0.12      0.10      0.11       136\n",
      "        44.0       0.15      0.12      0.13       168\n",
      "        45.0       0.10      0.06      0.08       110\n",
      "        46.0       0.11      0.14      0.13       151\n",
      "        47.0       0.08      0.03      0.04       100\n",
      "        48.0       0.10      0.09      0.09       135\n",
      "        49.0       0.08      0.06      0.07        93\n",
      "        50.0       0.08      0.05      0.06       112\n",
      "        51.0       0.05      0.03      0.04        94\n",
      "        52.0       0.14      0.08      0.10        89\n",
      "        53.0       0.08      0.05      0.06        87\n",
      "        54.0       0.08      0.04      0.05        96\n",
      "        55.0       0.14      0.05      0.08        55\n",
      "        56.0       0.05      0.04      0.04        80\n",
      "        57.0       0.07      0.03      0.04        36\n",
      "        58.0       0.18      0.11      0.14        64\n",
      "        59.0       0.05      0.03      0.04        32\n",
      "        60.0       0.00      0.00      0.00        35\n",
      "        61.0       0.08      0.04      0.06        45\n",
      "        62.0       0.21      0.06      0.09        54\n",
      "        63.0       0.15      0.05      0.08        38\n",
      "        64.0       0.08      0.03      0.05        31\n",
      "        65.0       0.00      0.00      0.00        14\n",
      "        66.0       0.25      0.05      0.09        38\n",
      "        67.0       0.00      0.00      0.00        17\n",
      "        68.0       0.00      0.00      0.00        13\n",
      "        69.0       0.17      0.08      0.11        13\n",
      "        70.0       0.00      0.00      0.00        13\n",
      "        71.0       0.00      0.00      0.00        12\n",
      "        72.0       0.00      0.00      0.00        10\n",
      "        73.0       0.00      0.00      0.00         5\n",
      "        74.0       0.00      0.00      0.00        10\n",
      "        75.0       0.00      0.00      0.00         2\n",
      "        76.0       0.00      0.00      0.00         1\n",
      "        77.0       0.00      0.00      0.00         8\n",
      "        78.0       0.00      0.00      0.00         1\n",
      "        79.0       0.00      0.00      0.00         2\n",
      "        80.0       0.00      0.00      0.00         1\n",
      "        81.0       0.00      0.00      0.00         1\n",
      "        84.0       0.00      0.00      0.00         1\n",
      "\n",
      "    accuracy                           0.20      9214\n",
      "   macro avg       0.14      0.14      0.13      9214\n",
      "weighted avg       0.18      0.20      0.18      9214\n",
      "\n"
     ]
    },
    {
     "name": "stderr",
     "output_type": "stream",
     "text": [
      "C:\\Users\\Mustafa\\anaconda3\\Lib\\site-packages\\sklearn\\metrics\\_classification.py:1531: UndefinedMetricWarning: Precision is ill-defined and being set to 0.0 in labels with no predicted samples. Use `zero_division` parameter to control this behavior.\n",
      "  _warn_prf(average, modifier, f\"{metric.capitalize()} is\", len(result))\n",
      "C:\\Users\\Mustafa\\anaconda3\\Lib\\site-packages\\sklearn\\metrics\\_classification.py:1531: UndefinedMetricWarning: Precision is ill-defined and being set to 0.0 in labels with no predicted samples. Use `zero_division` parameter to control this behavior.\n",
      "  _warn_prf(average, modifier, f\"{metric.capitalize()} is\", len(result))\n",
      "C:\\Users\\Mustafa\\anaconda3\\Lib\\site-packages\\sklearn\\metrics\\_classification.py:1531: UndefinedMetricWarning: Precision is ill-defined and being set to 0.0 in labels with no predicted samples. Use `zero_division` parameter to control this behavior.\n",
      "  _warn_prf(average, modifier, f\"{metric.capitalize()} is\", len(result))\n",
      "C:\\Users\\Mustafa\\anaconda3\\Lib\\site-packages\\sklearn\\linear_model\\_coordinate_descent.py:658: ConvergenceWarning: Objective did not converge. You might want to increase the number of iterations. Duality gap: 3805162.510670622, tolerance: 862.9568007923157\n",
      "  model = cd_fast.sparse_enet_coordinate_descent(\n"
     ]
    },
    {
     "name": "stdout",
     "output_type": "stream",
     "text": [
      "Epoch 1: MSE = 217.774284, Best MSE = 217.774284\n"
     ]
    },
    {
     "name": "stderr",
     "output_type": "stream",
     "text": [
      "C:\\Users\\Mustafa\\anaconda3\\Lib\\site-packages\\sklearn\\linear_model\\_coordinate_descent.py:658: ConvergenceWarning: Objective did not converge. You might want to increase the number of iterations. Duality gap: 3676642.4845024813, tolerance: 862.9568007923157\n",
      "  model = cd_fast.sparse_enet_coordinate_descent(\n"
     ]
    },
    {
     "name": "stdout",
     "output_type": "stream",
     "text": [
      "Epoch 2: MSE = 210.559748, Best MSE = 210.559748\n"
     ]
    },
    {
     "name": "stderr",
     "output_type": "stream",
     "text": [
      "C:\\Users\\Mustafa\\anaconda3\\Lib\\site-packages\\sklearn\\linear_model\\_coordinate_descent.py:658: ConvergenceWarning: Objective did not converge. You might want to increase the number of iterations. Duality gap: 3647561.9409820354, tolerance: 862.9568007923157\n",
      "  model = cd_fast.sparse_enet_coordinate_descent(\n"
     ]
    },
    {
     "name": "stdout",
     "output_type": "stream",
     "text": [
      "Epoch 3: MSE = 208.882194, Best MSE = 208.882194\n"
     ]
    },
    {
     "name": "stderr",
     "output_type": "stream",
     "text": [
      "C:\\Users\\Mustafa\\anaconda3\\Lib\\site-packages\\sklearn\\linear_model\\_coordinate_descent.py:658: ConvergenceWarning: Objective did not converge. You might want to increase the number of iterations. Duality gap: 3633086.6656886577, tolerance: 862.9568007923157\n",
      "  model = cd_fast.sparse_enet_coordinate_descent(\n"
     ]
    },
    {
     "name": "stdout",
     "output_type": "stream",
     "text": [
      "Epoch 4: MSE = 208.168357, Best MSE = 208.168357\n"
     ]
    },
    {
     "name": "stderr",
     "output_type": "stream",
     "text": [
      "C:\\Users\\Mustafa\\anaconda3\\Lib\\site-packages\\sklearn\\linear_model\\_coordinate_descent.py:658: ConvergenceWarning: Objective did not converge. You might want to increase the number of iterations. Duality gap: 3622038.3247047192, tolerance: 862.9568007923157\n",
      "  model = cd_fast.sparse_enet_coordinate_descent(\n"
     ]
    },
    {
     "name": "stdout",
     "output_type": "stream",
     "text": [
      "Epoch 5: MSE = 207.680977, Best MSE = 207.680977\n"
     ]
    },
    {
     "name": "stderr",
     "output_type": "stream",
     "text": [
      "C:\\Users\\Mustafa\\anaconda3\\Lib\\site-packages\\sklearn\\linear_model\\_coordinate_descent.py:658: ConvergenceWarning: Objective did not converge. You might want to increase the number of iterations. Duality gap: 3611570.751232075, tolerance: 862.9568007923157\n",
      "  model = cd_fast.sparse_enet_coordinate_descent(\n"
     ]
    },
    {
     "name": "stdout",
     "output_type": "stream",
     "text": [
      "Epoch 6: MSE = 207.282497, Best MSE = 207.282497\n"
     ]
    },
    {
     "name": "stderr",
     "output_type": "stream",
     "text": [
      "C:\\Users\\Mustafa\\anaconda3\\Lib\\site-packages\\sklearn\\linear_model\\_coordinate_descent.py:658: ConvergenceWarning: Objective did not converge. You might want to increase the number of iterations. Duality gap: 3600821.856240829, tolerance: 862.9568007923157\n",
      "  model = cd_fast.sparse_enet_coordinate_descent(\n"
     ]
    },
    {
     "name": "stdout",
     "output_type": "stream",
     "text": [
      "Epoch 7: MSE = 206.974465, Best MSE = 206.974465\n"
     ]
    },
    {
     "name": "stderr",
     "output_type": "stream",
     "text": [
      "C:\\Users\\Mustafa\\anaconda3\\Lib\\site-packages\\sklearn\\linear_model\\_coordinate_descent.py:658: ConvergenceWarning: Objective did not converge. You might want to increase the number of iterations. Duality gap: 3590907.121384887, tolerance: 862.9568007923157\n",
      "  model = cd_fast.sparse_enet_coordinate_descent(\n"
     ]
    },
    {
     "name": "stdout",
     "output_type": "stream",
     "text": [
      "Epoch 8: MSE = 206.762862, Best MSE = 206.762862\n"
     ]
    },
    {
     "name": "stderr",
     "output_type": "stream",
     "text": [
      "C:\\Users\\Mustafa\\anaconda3\\Lib\\site-packages\\sklearn\\linear_model\\_coordinate_descent.py:658: ConvergenceWarning: Objective did not converge. You might want to increase the number of iterations. Duality gap: 3579279.726897769, tolerance: 862.9568007923157\n",
      "  model = cd_fast.sparse_enet_coordinate_descent(\n"
     ]
    },
    {
     "name": "stdout",
     "output_type": "stream",
     "text": [
      "Epoch 9: MSE = 206.640952, Best MSE = 206.640952\n"
     ]
    },
    {
     "name": "stderr",
     "output_type": "stream",
     "text": [
      "C:\\Users\\Mustafa\\anaconda3\\Lib\\site-packages\\sklearn\\linear_model\\_coordinate_descent.py:658: ConvergenceWarning: Objective did not converge. You might want to increase the number of iterations. Duality gap: 3576702.271748776, tolerance: 862.9568007923157\n",
      "  model = cd_fast.sparse_enet_coordinate_descent(\n"
     ]
    },
    {
     "name": "stdout",
     "output_type": "stream",
     "text": [
      "Epoch 10: MSE = 206.584823, Best MSE = 206.584823\n"
     ]
    },
    {
     "name": "stderr",
     "output_type": "stream",
     "text": [
      "C:\\Users\\Mustafa\\anaconda3\\Lib\\site-packages\\sklearn\\linear_model\\_coordinate_descent.py:658: ConvergenceWarning: Objective did not converge. You might want to increase the number of iterations. Duality gap: 3572239.408088506, tolerance: 862.9568007923157\n",
      "  model = cd_fast.sparse_enet_coordinate_descent(\n"
     ]
    },
    {
     "name": "stdout",
     "output_type": "stream",
     "text": [
      "Epoch 11: MSE = 206.565637, Best MSE = 206.565637\n"
     ]
    },
    {
     "name": "stderr",
     "output_type": "stream",
     "text": [
      "C:\\Users\\Mustafa\\anaconda3\\Lib\\site-packages\\sklearn\\linear_model\\_coordinate_descent.py:658: ConvergenceWarning: Objective did not converge. You might want to increase the number of iterations. Duality gap: 3567800.4021884915, tolerance: 862.9568007923157\n",
      "  model = cd_fast.sparse_enet_coordinate_descent(\n"
     ]
    },
    {
     "name": "stdout",
     "output_type": "stream",
     "text": [
      "Epoch 12: MSE = 206.562457, Best MSE = 206.562457\n"
     ]
    },
    {
     "name": "stderr",
     "output_type": "stream",
     "text": [
      "C:\\Users\\Mustafa\\anaconda3\\Lib\\site-packages\\sklearn\\linear_model\\_coordinate_descent.py:658: ConvergenceWarning: Objective did not converge. You might want to increase the number of iterations. Duality gap: 3564323.9037323627, tolerance: 862.9568007923157\n",
      "  model = cd_fast.sparse_enet_coordinate_descent(\n"
     ]
    },
    {
     "name": "stdout",
     "output_type": "stream",
     "text": [
      "Epoch 13: MSE = 206.547790, Best MSE = 206.547790\n"
     ]
    },
    {
     "name": "stderr",
     "output_type": "stream",
     "text": [
      "C:\\Users\\Mustafa\\anaconda3\\Lib\\site-packages\\sklearn\\linear_model\\_coordinate_descent.py:658: ConvergenceWarning: Objective did not converge. You might want to increase the number of iterations. Duality gap: 3558671.5176962004, tolerance: 862.9568007923157\n",
      "  model = cd_fast.sparse_enet_coordinate_descent(\n"
     ]
    },
    {
     "name": "stdout",
     "output_type": "stream",
     "text": [
      "Epoch 14: MSE = 206.507445, Best MSE = 206.507445\n"
     ]
    },
    {
     "name": "stderr",
     "output_type": "stream",
     "text": [
      "C:\\Users\\Mustafa\\anaconda3\\Lib\\site-packages\\sklearn\\linear_model\\_coordinate_descent.py:658: ConvergenceWarning: Objective did not converge. You might want to increase the number of iterations. Duality gap: 3561017.930376578, tolerance: 862.9568007923157\n",
      "  model = cd_fast.sparse_enet_coordinate_descent(\n"
     ]
    },
    {
     "name": "stdout",
     "output_type": "stream",
     "text": [
      "Epoch 15: MSE = 206.435490, Best MSE = 206.435490\n"
     ]
    },
    {
     "name": "stderr",
     "output_type": "stream",
     "text": [
      "C:\\Users\\Mustafa\\anaconda3\\Lib\\site-packages\\sklearn\\linear_model\\_coordinate_descent.py:658: ConvergenceWarning: Objective did not converge. You might want to increase the number of iterations. Duality gap: 3562788.7113647317, tolerance: 862.9568007923157\n",
      "  model = cd_fast.sparse_enet_coordinate_descent(\n"
     ]
    },
    {
     "name": "stdout",
     "output_type": "stream",
     "text": [
      "Epoch 16: MSE = 206.326380, Best MSE = 206.326380\n"
     ]
    },
    {
     "name": "stderr",
     "output_type": "stream",
     "text": [
      "C:\\Users\\Mustafa\\anaconda3\\Lib\\site-packages\\sklearn\\linear_model\\_coordinate_descent.py:658: ConvergenceWarning: Objective did not converge. You might want to increase the number of iterations. Duality gap: 3562191.037044128, tolerance: 862.9568007923157\n",
      "  model = cd_fast.sparse_enet_coordinate_descent(\n"
     ]
    },
    {
     "name": "stdout",
     "output_type": "stream",
     "text": [
      "Epoch 17: MSE = 206.192394, Best MSE = 206.192394\n"
     ]
    },
    {
     "name": "stderr",
     "output_type": "stream",
     "text": [
      "C:\\Users\\Mustafa\\anaconda3\\Lib\\site-packages\\sklearn\\linear_model\\_coordinate_descent.py:658: ConvergenceWarning: Objective did not converge. You might want to increase the number of iterations. Duality gap: 3559790.142191021, tolerance: 862.9568007923157\n",
      "  model = cd_fast.sparse_enet_coordinate_descent(\n"
     ]
    },
    {
     "name": "stdout",
     "output_type": "stream",
     "text": [
      "Epoch 18: MSE = 206.031238, Best MSE = 206.031238\n"
     ]
    },
    {
     "name": "stderr",
     "output_type": "stream",
     "text": [
      "C:\\Users\\Mustafa\\anaconda3\\Lib\\site-packages\\sklearn\\linear_model\\_coordinate_descent.py:658: ConvergenceWarning: Objective did not converge. You might want to increase the number of iterations. Duality gap: 3555650.731098422, tolerance: 862.9568007923157\n",
      "  model = cd_fast.sparse_enet_coordinate_descent(\n"
     ]
    },
    {
     "name": "stdout",
     "output_type": "stream",
     "text": [
      "Epoch 19: MSE = 205.861849, Best MSE = 205.861849\n"
     ]
    },
    {
     "name": "stderr",
     "output_type": "stream",
     "text": [
      "C:\\Users\\Mustafa\\anaconda3\\Lib\\site-packages\\sklearn\\linear_model\\_coordinate_descent.py:658: ConvergenceWarning: Objective did not converge. You might want to increase the number of iterations. Duality gap: 3549634.1889497773, tolerance: 862.9568007923157\n",
      "  model = cd_fast.sparse_enet_coordinate_descent(\n"
     ]
    },
    {
     "name": "stdout",
     "output_type": "stream",
     "text": [
      "Epoch 20: MSE = 205.694340, Best MSE = 205.694340\n"
     ]
    },
    {
     "name": "stderr",
     "output_type": "stream",
     "text": [
      "C:\\Users\\Mustafa\\anaconda3\\Lib\\site-packages\\sklearn\\linear_model\\_coordinate_descent.py:658: ConvergenceWarning: Objective did not converge. You might want to increase the number of iterations. Duality gap: 3541454.040343889, tolerance: 862.9568007923157\n",
      "  model = cd_fast.sparse_enet_coordinate_descent(\n"
     ]
    },
    {
     "name": "stdout",
     "output_type": "stream",
     "text": [
      "Epoch 21: MSE = 205.535145, Best MSE = 205.535145\n"
     ]
    },
    {
     "name": "stderr",
     "output_type": "stream",
     "text": [
      "C:\\Users\\Mustafa\\anaconda3\\Lib\\site-packages\\sklearn\\linear_model\\_coordinate_descent.py:658: ConvergenceWarning: Objective did not converge. You might want to increase the number of iterations. Duality gap: 3530157.0576998433, tolerance: 862.9568007923157\n",
      "  model = cd_fast.sparse_enet_coordinate_descent(\n"
     ]
    },
    {
     "name": "stdout",
     "output_type": "stream",
     "text": [
      "Epoch 22: MSE = 205.390252, Best MSE = 205.390252\n"
     ]
    },
    {
     "name": "stderr",
     "output_type": "stream",
     "text": [
      "C:\\Users\\Mustafa\\anaconda3\\Lib\\site-packages\\sklearn\\linear_model\\_coordinate_descent.py:658: ConvergenceWarning: Objective did not converge. You might want to increase the number of iterations. Duality gap: 3514247.381137221, tolerance: 862.9568007923157\n",
      "  model = cd_fast.sparse_enet_coordinate_descent(\n"
     ]
    },
    {
     "name": "stdout",
     "output_type": "stream",
     "text": [
      "Epoch 23: MSE = 205.262215, Best MSE = 205.262215\n"
     ]
    },
    {
     "name": "stderr",
     "output_type": "stream",
     "text": [
      "C:\\Users\\Mustafa\\anaconda3\\Lib\\site-packages\\sklearn\\linear_model\\_coordinate_descent.py:658: ConvergenceWarning: Objective did not converge. You might want to increase the number of iterations. Duality gap: 3490667.222188377, tolerance: 862.9568007923157\n",
      "  model = cd_fast.sparse_enet_coordinate_descent(\n"
     ]
    },
    {
     "name": "stdout",
     "output_type": "stream",
     "text": [
      "Epoch 24: MSE = 205.153426, Best MSE = 205.153426\n"
     ]
    },
    {
     "name": "stderr",
     "output_type": "stream",
     "text": [
      "C:\\Users\\Mustafa\\anaconda3\\Lib\\site-packages\\sklearn\\linear_model\\_coordinate_descent.py:658: ConvergenceWarning: Objective did not converge. You might want to increase the number of iterations. Duality gap: 3453788.15531755, tolerance: 862.9568007923157\n",
      "  model = cd_fast.sparse_enet_coordinate_descent(\n"
     ]
    },
    {
     "name": "stdout",
     "output_type": "stream",
     "text": [
      "Epoch 25: MSE = 205.064262, Best MSE = 205.064262\n"
     ]
    },
    {
     "name": "stderr",
     "output_type": "stream",
     "text": [
      "C:\\Users\\Mustafa\\anaconda3\\Lib\\site-packages\\sklearn\\linear_model\\_coordinate_descent.py:658: ConvergenceWarning: Objective did not converge. You might want to increase the number of iterations. Duality gap: 3391690.8311513886, tolerance: 862.9568007923157\n",
      "  model = cd_fast.sparse_enet_coordinate_descent(\n"
     ]
    },
    {
     "name": "stdout",
     "output_type": "stream",
     "text": [
      "Epoch 26: MSE = 204.998401, Best MSE = 204.998401\n"
     ]
    },
    {
     "name": "stderr",
     "output_type": "stream",
     "text": [
      "C:\\Users\\Mustafa\\anaconda3\\Lib\\site-packages\\sklearn\\linear_model\\_coordinate_descent.py:658: ConvergenceWarning: Objective did not converge. You might want to increase the number of iterations. Duality gap: 3270647.80150548, tolerance: 862.9568007923157\n",
      "  model = cd_fast.sparse_enet_coordinate_descent(\n"
     ]
    },
    {
     "name": "stdout",
     "output_type": "stream",
     "text": [
      "Epoch 27: MSE = 204.949242, Best MSE = 204.949242\n"
     ]
    },
    {
     "name": "stderr",
     "output_type": "stream",
     "text": [
      "C:\\Users\\Mustafa\\anaconda3\\Lib\\site-packages\\sklearn\\linear_model\\_coordinate_descent.py:658: ConvergenceWarning: Objective did not converge. You might want to increase the number of iterations. Duality gap: 3218808.5967695643, tolerance: 862.9568007923157\n",
      "  model = cd_fast.sparse_enet_coordinate_descent(\n"
     ]
    },
    {
     "name": "stdout",
     "output_type": "stream",
     "text": [
      "Epoch 28: MSE = 204.915048, Best MSE = 204.915048\n"
     ]
    },
    {
     "name": "stderr",
     "output_type": "stream",
     "text": [
      "C:\\Users\\Mustafa\\anaconda3\\Lib\\site-packages\\sklearn\\linear_model\\_coordinate_descent.py:658: ConvergenceWarning: Objective did not converge. You might want to increase the number of iterations. Duality gap: 3206443.255053253, tolerance: 862.9568007923157\n",
      "  model = cd_fast.sparse_enet_coordinate_descent(\n"
     ]
    },
    {
     "name": "stdout",
     "output_type": "stream",
     "text": [
      "Epoch 29: MSE = 204.890048, Best MSE = 204.890048\n"
     ]
    },
    {
     "name": "stderr",
     "output_type": "stream",
     "text": [
      "C:\\Users\\Mustafa\\anaconda3\\Lib\\site-packages\\sklearn\\linear_model\\_coordinate_descent.py:658: ConvergenceWarning: Objective did not converge. You might want to increase the number of iterations. Duality gap: 3178215.5650613303, tolerance: 862.9568007923157\n",
      "  model = cd_fast.sparse_enet_coordinate_descent(\n"
     ]
    },
    {
     "name": "stdout",
     "output_type": "stream",
     "text": [
      "Epoch 30: MSE = 204.873020, Best MSE = 204.873020\n"
     ]
    },
    {
     "name": "stderr",
     "output_type": "stream",
     "text": [
      "C:\\Users\\Mustafa\\anaconda3\\Lib\\site-packages\\sklearn\\linear_model\\_coordinate_descent.py:658: ConvergenceWarning: Objective did not converge. You might want to increase the number of iterations. Duality gap: 3127245.26618462, tolerance: 862.9568007923157\n",
      "  model = cd_fast.sparse_enet_coordinate_descent(\n"
     ]
    },
    {
     "name": "stdout",
     "output_type": "stream",
     "text": [
      "Epoch 31: MSE = 204.862755, Best MSE = 204.862755\n"
     ]
    },
    {
     "name": "stderr",
     "output_type": "stream",
     "text": [
      "C:\\Users\\Mustafa\\anaconda3\\Lib\\site-packages\\sklearn\\linear_model\\_coordinate_descent.py:658: ConvergenceWarning: Objective did not converge. You might want to increase the number of iterations. Duality gap: 3073427.014014697, tolerance: 862.9568007923157\n",
      "  model = cd_fast.sparse_enet_coordinate_descent(\n"
     ]
    },
    {
     "name": "stdout",
     "output_type": "stream",
     "text": [
      "Epoch 32: MSE = 204.856540, Best MSE = 204.856540\n"
     ]
    },
    {
     "name": "stderr",
     "output_type": "stream",
     "text": [
      "C:\\Users\\Mustafa\\anaconda3\\Lib\\site-packages\\sklearn\\linear_model\\_coordinate_descent.py:658: ConvergenceWarning: Objective did not converge. You might want to increase the number of iterations. Duality gap: 3139664.7587899864, tolerance: 862.9568007923157\n",
      "  model = cd_fast.sparse_enet_coordinate_descent(\n"
     ]
    },
    {
     "name": "stdout",
     "output_type": "stream",
     "text": [
      "Epoch 33: MSE = 204.854099, Best MSE = 204.854099\n"
     ]
    },
    {
     "name": "stderr",
     "output_type": "stream",
     "text": [
      "C:\\Users\\Mustafa\\anaconda3\\Lib\\site-packages\\sklearn\\linear_model\\_coordinate_descent.py:658: ConvergenceWarning: Objective did not converge. You might want to increase the number of iterations. Duality gap: 3164366.525769781, tolerance: 862.9568007923157\n",
      "  model = cd_fast.sparse_enet_coordinate_descent(\n"
     ]
    },
    {
     "name": "stdout",
     "output_type": "stream",
     "text": [
      "Epoch 34: MSE = 204.854470, Best MSE = 204.854099\n"
     ]
    },
    {
     "name": "stderr",
     "output_type": "stream",
     "text": [
      "C:\\Users\\Mustafa\\anaconda3\\Lib\\site-packages\\sklearn\\linear_model\\_coordinate_descent.py:658: ConvergenceWarning: Objective did not converge. You might want to increase the number of iterations. Duality gap: 3165483.183893444, tolerance: 862.9568007923157\n",
      "  model = cd_fast.sparse_enet_coordinate_descent(\n"
     ]
    },
    {
     "name": "stdout",
     "output_type": "stream",
     "text": [
      "Epoch 35: MSE = 204.856676, Best MSE = 204.854099\n"
     ]
    },
    {
     "name": "stderr",
     "output_type": "stream",
     "text": [
      "C:\\Users\\Mustafa\\anaconda3\\Lib\\site-packages\\sklearn\\linear_model\\_coordinate_descent.py:658: ConvergenceWarning: Objective did not converge. You might want to increase the number of iterations. Duality gap: 3148900.905169103, tolerance: 862.9568007923157\n",
      "  model = cd_fast.sparse_enet_coordinate_descent(\n"
     ]
    },
    {
     "name": "stdout",
     "output_type": "stream",
     "text": [
      "Epoch 36: MSE = 204.860170, Best MSE = 204.854099\n"
     ]
    },
    {
     "name": "stderr",
     "output_type": "stream",
     "text": [
      "C:\\Users\\Mustafa\\anaconda3\\Lib\\site-packages\\sklearn\\linear_model\\_coordinate_descent.py:658: ConvergenceWarning: Objective did not converge. You might want to increase the number of iterations. Duality gap: 3116788.789893428, tolerance: 862.9568007923157\n",
      "  model = cd_fast.sparse_enet_coordinate_descent(\n"
     ]
    },
    {
     "name": "stdout",
     "output_type": "stream",
     "text": [
      "Epoch 37: MSE = 204.864447, Best MSE = 204.854099\n"
     ]
    },
    {
     "name": "stderr",
     "output_type": "stream",
     "text": [
      "C:\\Users\\Mustafa\\anaconda3\\Lib\\site-packages\\sklearn\\linear_model\\_coordinate_descent.py:658: ConvergenceWarning: Objective did not converge. You might want to increase the number of iterations. Duality gap: 3068352.3485233593, tolerance: 862.9568007923157\n",
      "  model = cd_fast.sparse_enet_coordinate_descent(\n"
     ]
    },
    {
     "name": "stdout",
     "output_type": "stream",
     "text": [
      "Epoch 38: MSE = 204.869145, Best MSE = 204.854099\n"
     ]
    },
    {
     "name": "stderr",
     "output_type": "stream",
     "text": [
      "C:\\Users\\Mustafa\\anaconda3\\Lib\\site-packages\\sklearn\\linear_model\\_coordinate_descent.py:658: ConvergenceWarning: Objective did not converge. You might want to increase the number of iterations. Duality gap: 3003234.877564147, tolerance: 862.9568007923157\n",
      "  model = cd_fast.sparse_enet_coordinate_descent(\n"
     ]
    },
    {
     "name": "stdout",
     "output_type": "stream",
     "text": [
      "Epoch 39: MSE = 204.873954, Best MSE = 204.854099\n"
     ]
    },
    {
     "name": "stderr",
     "output_type": "stream",
     "text": [
      "C:\\Users\\Mustafa\\anaconda3\\Lib\\site-packages\\sklearn\\linear_model\\_coordinate_descent.py:658: ConvergenceWarning: Objective did not converge. You might want to increase the number of iterations. Duality gap: 3001038.8317966913, tolerance: 862.9568007923157\n",
      "  model = cd_fast.sparse_enet_coordinate_descent(\n"
     ]
    },
    {
     "name": "stdout",
     "output_type": "stream",
     "text": [
      "Epoch 40: MSE = 204.878630, Best MSE = 204.854099\n"
     ]
    },
    {
     "name": "stderr",
     "output_type": "stream",
     "text": [
      "C:\\Users\\Mustafa\\anaconda3\\Lib\\site-packages\\sklearn\\linear_model\\_coordinate_descent.py:658: ConvergenceWarning: Objective did not converge. You might want to increase the number of iterations. Duality gap: 3021331.470690559, tolerance: 862.9568007923157\n",
      "  model = cd_fast.sparse_enet_coordinate_descent(\n"
     ]
    },
    {
     "name": "stdout",
     "output_type": "stream",
     "text": [
      "Epoch 41: MSE = 204.882963, Best MSE = 204.854099\n"
     ]
    },
    {
     "name": "stderr",
     "output_type": "stream",
     "text": [
      "C:\\Users\\Mustafa\\anaconda3\\Lib\\site-packages\\sklearn\\linear_model\\_coordinate_descent.py:658: ConvergenceWarning: Objective did not converge. You might want to increase the number of iterations. Duality gap: 3023628.5777732655, tolerance: 862.9568007923157\n",
      "  model = cd_fast.sparse_enet_coordinate_descent(\n"
     ]
    },
    {
     "name": "stdout",
     "output_type": "stream",
     "text": [
      "Epoch 42: MSE = 204.886787, Best MSE = 204.854099\n",
      "Epoch 43: MSE = 204.889934, Best MSE = 204.854099\n",
      "No improvement for 10 epochs. Stopping early.\n",
      "\n",
      "Final Best Lasso Regression Model Mean Squared Error: 204.854099\n",
      "\n",
      "Sample Actual vs. Predicted Values (Lasso):\n",
      "Actual: 41.0, Predicted: 27.945070597709602\n",
      "Actual: 58.0, Predicted: 27.945070597709602\n",
      "Actual: 46.0, Predicted: 48.21559781046307\n",
      "Actual: 20.0, Predicted: 27.945070597709602\n",
      "Actual: 9.0, Predicted: 27.945070597709602\n",
      "Actual: 38.0, Predicted: 35.58831426283508\n",
      "Actual: 28.0, Predicted: 27.945070597709602\n",
      "Actual: 28.0, Predicted: 27.945070597709602\n",
      "Actual: 13.0, Predicted: 27.945070597709602\n",
      "Actual: 28.0, Predicted: 27.945070597709602\n"
     ]
    },
    {
     "name": "stderr",
     "output_type": "stream",
     "text": [
      "C:\\Users\\Mustafa\\anaconda3\\Lib\\site-packages\\sklearn\\linear_model\\_coordinate_descent.py:658: ConvergenceWarning: Objective did not converge. You might want to increase the number of iterations. Duality gap: 3023081.349451647, tolerance: 862.9568007923157\n",
      "  model = cd_fast.sparse_enet_coordinate_descent(\n"
     ]
    }
   ],
   "source": [
    "import pandas as pd\n",
    "import numpy as np\n",
    "from sklearn.model_selection import train_test_split\n",
    "from sklearn.preprocessing import StandardScaler\n",
    "from sklearn.metrics import mean_squared_error\n",
    "from sklearn.linear_model import Lasso\n",
    "import pandas as pd\n",
    "import numpy as np\n",
    "from sklearn.model_selection import train_test_split\n",
    "from sklearn.preprocessing import OneHotEncoder, StandardScaler\n",
    "from sklearn.compose import ColumnTransformer\n",
    "from sklearn.pipeline import Pipeline\n",
    "from sklearn.ensemble import RandomForestClassifier\n",
    "from sklearn.linear_model import Lasso\n",
    "from sklearn.metrics import classification_report, accuracy_score, mean_squared_error\n",
    "from gensim.models import Word2Vec\n",
    "from gensim.utils import simple_preprocess\n",
    "from sklearn.feature_extraction.text import TfidfVectorizer\n",
    "from scipy.sparse import hstack\n",
    "import joblib\n",
    "\n",
    "df = pd.read_csv('cleanedData.csv')\n",
    "\n",
    "# Drop rows with missing target values\n",
    "df = df.dropna(subset=['degerlendirme_puani'])\n",
    "\n",
    "# Debugging step: Print column names to verify\n",
    "print(\"Columns in the DataFrame:\", df.columns)\n",
    "\n",
    "# Extract relevant columns for the classification model\n",
    "cat_features = [\n",
    "    'cinsiyet', 'dogum_yeri', 'ikametgah_sehri', 'universite_adi', 'universite_turu',\n",
    "    'burslu_ise_burs_yuzdesi', 'burs_aliyor_mu?', 'bolum', 'universite_kacinci_sinif',\n",
    "    'universite_not_ortalamasi', 'daha_once_baska_bir_universiteden_mezun_olmus',\n",
    "    'lise_adi', 'lise_adi_diger', 'lise_sehir', 'lise_turu', 'lise_bolumu',\n",
    "    'lise_bolum_diger', 'lise_mezuniyet_notu', 'baska_bir_kurumdan_burs_aliyor_mu?',\n",
    "    'burs_aldigi_baska_kurum', 'baska_kurumdan_aldigi_burs_miktari', 'anne_egitim_durumu',\n",
    "    'anne_calisma_durumu', 'baba_egitim_durumu', 'baba_calisma_durumu', 'kardes_sayisi',\n",
    "    'girisimcilik_kulupleri_tarzi_bir_kulube_uye_misiniz?', 'uye_oldugunuz_kulubun_ismi',\n",
    "    'profesyonel_bir_spor_daliyla_mesgul_musunuz?', 'spor_dalindaki_rolunuz_nedir?',\n",
    "    'aktif_olarak_bir_stk_uyesi_misiniz?', \"hangi_stk'nin_uyesisiniz?\",\n",
    "    'stk_projesine_katildiniz_mi?', 'girisimcilikle_ilgili_deneyiminiz_var_mi?',\n",
    "    'ingilizce_biliyor_musunuz?', 'ingilizce_seviyeniz?', \n",
    "    'daha_onceden_mezun_olunduysa,_mezun_olunan_universite', 'anne_sektor_encoded',\n",
    "    'baba_sektor_encoded', 'anne_Unknown', 'anne_diger', 'anne_kamu',\n",
    "    'anne_ozel sektor', 'baba_Unknown', 'baba_diger', 'baba_kamu', 'baba_ozel sektor',\n",
    "    'age'\n",
    "]\n",
    "\n",
    "text_columns = ['girisimcilikle_ilgili_deneyiminizi_aciklayabilir_misiniz?']\n",
    "target_column = 'degerlendirme_puani'\n",
    "\n",
    "# Handle missing values in text columns\n",
    "df[text_columns] = df[text_columns].fillna('')\n",
    "\n",
    "# Combine text columns into one for processing\n",
    "df['combined_text'] = df[text_columns].apply(lambda x: ' '.join(x), axis=1)\n",
    "\n",
    "# Tokenize and preprocess text data for Word2Vec\n",
    "def preprocess_text(text):\n",
    "    return simple_preprocess(text, deacc=True)\n",
    "\n",
    "# Prepare Word2Vec model\n",
    "sentences = [preprocess_text(text) for text in df['combined_text']]\n",
    "word2vec_model = Word2Vec(sentences, vector_size=100, window=5, min_count=1, workers=4)\n",
    "\n",
    "# Create document vectors by averaging word vectors\n",
    "def vectorize_text(text):\n",
    "    tokens = preprocess_text(text)\n",
    "    vectors = [word2vec_model.wv[token] for token in tokens if token in word2vec_model.wv]\n",
    "    if len(vectors) == 0:\n",
    "        return np.zeros(word2vec_model.vector_size)\n",
    "    return np.mean(vectors, axis=0)\n",
    "\n",
    "df['text_vector'] = df['combined_text'].apply(vectorize_text)\n",
    "word2vec_features = np.array(df['text_vector'].tolist())\n",
    "\n",
    "# TF-IDF Vectorization\n",
    "text_data = df['combined_text']\n",
    "tfidf_vectorizer = TfidfVectorizer(max_features=1000)\n",
    "tfidf_vectors = tfidf_vectorizer.fit_transform(text_data)\n",
    "\n",
    "# Combine Word2Vec and TF-IDF features\n",
    "combined_features = hstack([tfidf_vectors, word2vec_features])\n",
    "\n",
    "# Debugging step: Verify columns in df and missing columns in cat_features\n",
    "missing_cols = [col for col in cat_features if col not in df.columns]\n",
    "if missing_cols:\n",
    "    print(\"Warning: The following columns are missing from the DataFrame:\", missing_cols)\n",
    "\n",
    "# Prepare data for classification model\n",
    "try:\n",
    "    X_cat = df[cat_features]\n",
    "except KeyError as e:\n",
    "    print(\"Error: One or more columns are missing:\", e)\n",
    "    print(\"Available columns:\", df.columns)\n",
    "    raise\n",
    "\n",
    "y = df[target_column]\n",
    "\n",
    "# ColumnTransformer for encoding categorical features\n",
    "preprocessor = ColumnTransformer(\n",
    "    transformers=[\n",
    "        ('cat', OneHotEncoder(handle_unknown='ignore'), cat_features)\n",
    "    ],\n",
    "    remainder='passthrough'\n",
    ")\n",
    "\n",
    "# Classification pipeline\n",
    "clf_pipeline = Pipeline(steps=[\n",
    "    ('preprocessor', preprocessor),\n",
    "    ('classifier', RandomForestClassifier(n_estimators=100, random_state=42))\n",
    "])\n",
    "\n",
    "# Split data for classification model\n",
    "X_cat_train, X_cat_test, y_train, y_test = train_test_split(X_cat, y, test_size=0.2, random_state=42)\n",
    "\n",
    "# Train classification model\n",
    "clf_pipeline.fit(X_cat_train, y_train)\n",
    "\n",
    "# Evaluate classification model\n",
    "y_pred_cat = clf_pipeline.predict(X_cat_test)\n",
    "print(\"Classification Model Accuracy:\", accuracy_score(y_test, y_pred_cat))\n",
    "print(\"Classification Report:\\n\", classification_report(y_test, y_pred_cat))\n",
    "\n",
    "# Prepare data for regression model\n",
    "X_combined = combined_features\n",
    "\n",
    "# Split data for regression model\n",
    "X_train, X_test, y_train, y_test = train_test_split(X_combined, y, test_size=0.2, random_state=42)\n",
    "# Standardize features for regression\n",
    "scaler = StandardScaler(with_mean=False)\n",
    "X_train = scaler.fit_transform(X_train)\n",
    "X_test = scaler.transform(X_test)\n",
    "\n",
    "# Early stopping parameters\n",
    "alpha = 0.001  # Lasso regularization parameter\n",
    "max_epochs = 1000  # Maximum number of iterations\n",
    "tolerance = 1e-4  # Minimum improvement to keep going\n",
    "patience = 10  # Number of epochs with no improvement before stopping\n",
    "\n",
    "best_mse = float('inf')\n",
    "best_model = None\n",
    "no_improvement_count = 0\n",
    "\n",
    "for epoch in range(1, max_epochs + 1):\n",
    "    # Create and fit the Lasso model\n",
    "    lasso_model = Lasso(alpha=alpha, max_iter=epoch, warm_start=True)  # warm_start allows iterative fitting\n",
    "    lasso_model.fit(X_train, y_train)\n",
    "\n",
    "    # Predict on the test set\n",
    "    y_pred_lasso = lasso_model.predict(X_test)\n",
    "    \n",
    "    # Calculate the Mean Squared Error\n",
    "    mse_lasso = mean_squared_error(y_test, y_pred_lasso)\n",
    "\n",
    "    # Check for improvement\n",
    "    if mse_lasso < best_mse - tolerance:\n",
    "        best_mse = mse_lasso\n",
    "        best_model = lasso_model\n",
    "        no_improvement_count = 0\n",
    "    else:\n",
    "        no_improvement_count += 1\n",
    "    \n",
    "    # Print progress for each epoch\n",
    "    print(f'Epoch {epoch}: MSE = {mse_lasso:.6f}, Best MSE = {best_mse:.6f}')\n",
    "    \n",
    "    # Early stopping if no improvement for 'patience' epochs\n",
    "    if no_improvement_count >= patience:\n",
    "        print(f\"No improvement for {patience} epochs. Stopping early.\")\n",
    "        break\n",
    "\n",
    "# Use the best model for final predictions\n",
    "y_pred_lasso_final = best_model.predict(X_test)\n",
    "print(f'\\nFinal Best Lasso Regression Model Mean Squared Error: {best_mse:.6f}')\n",
    "\n",
    "# Print sample actual vs predicted values for Lasso\n",
    "print(\"\\nSample Actual vs. Predicted Values (Lasso):\")\n",
    "for actual, predicted in zip(y_test.head(10), y_pred_lasso_final[:10]):\n",
    "    print(f\"Actual: {actual}, Predicted: {predicted}\")\n"
   ]
  },
  {
   "cell_type": "code",
   "execution_count": null,
   "id": "6312c675-e5cb-4a05-9f08-446b7c6f5758",
   "metadata": {},
   "outputs": [],
   "source": []
  }
 ],
 "metadata": {
  "kernelspec": {
   "display_name": "Python 3 (ipykernel)",
   "language": "python",
   "name": "python3"
  },
  "language_info": {
   "codemirror_mode": {
    "name": "ipython",
    "version": 3
   },
   "file_extension": ".py",
   "mimetype": "text/x-python",
   "name": "python",
   "nbconvert_exporter": "python",
   "pygments_lexer": "ipython3",
   "version": "3.12.4"
  }
 },
 "nbformat": 4,
 "nbformat_minor": 5
}
