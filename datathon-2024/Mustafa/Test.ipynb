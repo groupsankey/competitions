{
 "cells": [
  {
   "cell_type": "code",
   "execution_count": 197,
   "id": "90f86be7-0fd7-4e47-b83a-525f77b7de53",
   "metadata": {},
   "outputs": [
    {
     "name": "stdout",
     "output_type": "stream",
     "text": [
      "Requirement already satisfied: joblib in c:\\users\\mustafa\\anaconda3\\lib\\site-packages (1.4.2)\n",
      "Note: you may need to restart the kernel to use updated packages.\n"
     ]
    }
   ],
   "source": [
    "pip install --upgrade joblib\n"
   ]
  },
  {
   "cell_type": "code",
   "execution_count": 15,
   "id": "5df68994-7fcb-4273-a65b-d8eb346e93ed",
   "metadata": {},
   "outputs": [
    {
     "ename": "KeyError",
     "evalue": "'[\\'cinsiyet\\', \\'dogum_yeri\\', \\'ikametgah_sehri\\', \\'universite_adi\\', \\'universite_turu\\', \\'burslu_ise_burs_yuzdesi\\', \\'burs_aliyor_mu?\\', \\'bolum\\', \\'universite_kacinci_sinif\\', \\'universite_not_ortalamasi\\', \\'daha_once_baska_bir_universiteden_mezun_olmus\\', \\'lise_adi\\', \\'lise_adi_diger\\', \\'lise_sehir\\', \\'lise_turu\\', \\'lise_bolumu\\', \\'lise_bolum_diger\\', \\'lise_mezuniyet_notu\\', \\'baska_bir_kurumdan_burs_aliyor_mu?\\', \\'burs_aldigi_baska_kurum\\', \\'baska_kurumdan_aldigi_burs_miktari\\', \\'anne_egitim_durumu\\', \\'anne_calisma_durumu\\', \\'baba_egitim_durumu\\', \\'baba_calisma_durumu\\', \\'kardes_sayisi\\', \\'girisimcilik_kulupleri_tarzi_bir_kulube_uye_misiniz?\\', \\'uye_oldugunuz_kulubun_ismi\\', \\'profesyonel_bir_spor_daliyla_mesgul_musunuz?\\', \\'spor_dalindaki_rolunuz_nedir?\\', \\'aktif_olarak_bir_stk_uyesi_misiniz?\\', \"hangi_stk\\'nin_uyesisiniz?\", \\'stk_projesine_katildiniz_mi?\\', \\'ingilizce_biliyor_musunuz?\\', \\'ingilizce_seviyeniz?\\', \\'daha_onceden_mezun_olunduysa,_mezun_olunan_universite\\', \\'anne_sektor_encoded\\', \\'baba_sektor_encoded\\', \\'anne_Unknown\\', \\'anne_diger\\', \\'anne_kamu\\', \\'anne_ozel sektor\\', \\'baba_Unknown\\', \\'baba_diger\\', \\'baba_kamu\\', \\'baba_ozel sektor\\', \\'age\\'] not in index'",
     "output_type": "error",
     "traceback": [
      "\u001b[1;31m---------------------------------------------------------------------------\u001b[0m",
      "\u001b[1;31mKeyError\u001b[0m                                  Traceback (most recent call last)",
      "Cell \u001b[1;32mIn[15], line 52\u001b[0m\n\u001b[0;32m     49\u001b[0m combined_features_test \u001b[38;5;241m=\u001b[39m hstack([tfidf_vectors_test, word2vec_features_test])\n\u001b[0;32m     51\u001b[0m \u001b[38;5;66;03m# Prepare data for classification model\u001b[39;00m\n\u001b[1;32m---> 52\u001b[0m X_cat_test \u001b[38;5;241m=\u001b[39m test_df[cat_features]  \u001b[38;5;66;03m# Ensure cat_features is defined and matches your training data\u001b[39;00m\n\u001b[0;32m     54\u001b[0m \u001b[38;5;66;03m# Predict using classification model\u001b[39;00m\n\u001b[0;32m     55\u001b[0m y_pred_cat \u001b[38;5;241m=\u001b[39m clf_pipeline\u001b[38;5;241m.\u001b[39mpredict(X_cat_test)\n",
      "File \u001b[1;32m~\\anaconda3\\Lib\\site-packages\\pandas\\core\\frame.py:4108\u001b[0m, in \u001b[0;36mDataFrame.__getitem__\u001b[1;34m(self, key)\u001b[0m\n\u001b[0;32m   4106\u001b[0m     \u001b[38;5;28;01mif\u001b[39;00m is_iterator(key):\n\u001b[0;32m   4107\u001b[0m         key \u001b[38;5;241m=\u001b[39m \u001b[38;5;28mlist\u001b[39m(key)\n\u001b[1;32m-> 4108\u001b[0m     indexer \u001b[38;5;241m=\u001b[39m \u001b[38;5;28mself\u001b[39m\u001b[38;5;241m.\u001b[39mcolumns\u001b[38;5;241m.\u001b[39m_get_indexer_strict(key, \u001b[38;5;124m\"\u001b[39m\u001b[38;5;124mcolumns\u001b[39m\u001b[38;5;124m\"\u001b[39m)[\u001b[38;5;241m1\u001b[39m]\n\u001b[0;32m   4110\u001b[0m \u001b[38;5;66;03m# take() does not accept boolean indexers\u001b[39;00m\n\u001b[0;32m   4111\u001b[0m \u001b[38;5;28;01mif\u001b[39;00m \u001b[38;5;28mgetattr\u001b[39m(indexer, \u001b[38;5;124m\"\u001b[39m\u001b[38;5;124mdtype\u001b[39m\u001b[38;5;124m\"\u001b[39m, \u001b[38;5;28;01mNone\u001b[39;00m) \u001b[38;5;241m==\u001b[39m \u001b[38;5;28mbool\u001b[39m:\n",
      "File \u001b[1;32m~\\anaconda3\\Lib\\site-packages\\pandas\\core\\indexes\\base.py:6200\u001b[0m, in \u001b[0;36mIndex._get_indexer_strict\u001b[1;34m(self, key, axis_name)\u001b[0m\n\u001b[0;32m   6197\u001b[0m \u001b[38;5;28;01melse\u001b[39;00m:\n\u001b[0;32m   6198\u001b[0m     keyarr, indexer, new_indexer \u001b[38;5;241m=\u001b[39m \u001b[38;5;28mself\u001b[39m\u001b[38;5;241m.\u001b[39m_reindex_non_unique(keyarr)\n\u001b[1;32m-> 6200\u001b[0m \u001b[38;5;28mself\u001b[39m\u001b[38;5;241m.\u001b[39m_raise_if_missing(keyarr, indexer, axis_name)\n\u001b[0;32m   6202\u001b[0m keyarr \u001b[38;5;241m=\u001b[39m \u001b[38;5;28mself\u001b[39m\u001b[38;5;241m.\u001b[39mtake(indexer)\n\u001b[0;32m   6203\u001b[0m \u001b[38;5;28;01mif\u001b[39;00m \u001b[38;5;28misinstance\u001b[39m(key, Index):\n\u001b[0;32m   6204\u001b[0m     \u001b[38;5;66;03m# GH 42790 - Preserve name from an Index\u001b[39;00m\n",
      "File \u001b[1;32m~\\anaconda3\\Lib\\site-packages\\pandas\\core\\indexes\\base.py:6252\u001b[0m, in \u001b[0;36mIndex._raise_if_missing\u001b[1;34m(self, key, indexer, axis_name)\u001b[0m\n\u001b[0;32m   6249\u001b[0m     \u001b[38;5;28;01mraise\u001b[39;00m \u001b[38;5;167;01mKeyError\u001b[39;00m(\u001b[38;5;124mf\u001b[39m\u001b[38;5;124m\"\u001b[39m\u001b[38;5;124mNone of [\u001b[39m\u001b[38;5;132;01m{\u001b[39;00mkey\u001b[38;5;132;01m}\u001b[39;00m\u001b[38;5;124m] are in the [\u001b[39m\u001b[38;5;132;01m{\u001b[39;00maxis_name\u001b[38;5;132;01m}\u001b[39;00m\u001b[38;5;124m]\u001b[39m\u001b[38;5;124m\"\u001b[39m)\n\u001b[0;32m   6251\u001b[0m not_found \u001b[38;5;241m=\u001b[39m \u001b[38;5;28mlist\u001b[39m(ensure_index(key)[missing_mask\u001b[38;5;241m.\u001b[39mnonzero()[\u001b[38;5;241m0\u001b[39m]]\u001b[38;5;241m.\u001b[39munique())\n\u001b[1;32m-> 6252\u001b[0m \u001b[38;5;28;01mraise\u001b[39;00m \u001b[38;5;167;01mKeyError\u001b[39;00m(\u001b[38;5;124mf\u001b[39m\u001b[38;5;124m\"\u001b[39m\u001b[38;5;132;01m{\u001b[39;00mnot_found\u001b[38;5;132;01m}\u001b[39;00m\u001b[38;5;124m not in index\u001b[39m\u001b[38;5;124m\"\u001b[39m)\n",
      "\u001b[1;31mKeyError\u001b[0m: '[\\'cinsiyet\\', \\'dogum_yeri\\', \\'ikametgah_sehri\\', \\'universite_adi\\', \\'universite_turu\\', \\'burslu_ise_burs_yuzdesi\\', \\'burs_aliyor_mu?\\', \\'bolum\\', \\'universite_kacinci_sinif\\', \\'universite_not_ortalamasi\\', \\'daha_once_baska_bir_universiteden_mezun_olmus\\', \\'lise_adi\\', \\'lise_adi_diger\\', \\'lise_sehir\\', \\'lise_turu\\', \\'lise_bolumu\\', \\'lise_bolum_diger\\', \\'lise_mezuniyet_notu\\', \\'baska_bir_kurumdan_burs_aliyor_mu?\\', \\'burs_aldigi_baska_kurum\\', \\'baska_kurumdan_aldigi_burs_miktari\\', \\'anne_egitim_durumu\\', \\'anne_calisma_durumu\\', \\'baba_egitim_durumu\\', \\'baba_calisma_durumu\\', \\'kardes_sayisi\\', \\'girisimcilik_kulupleri_tarzi_bir_kulube_uye_misiniz?\\', \\'uye_oldugunuz_kulubun_ismi\\', \\'profesyonel_bir_spor_daliyla_mesgul_musunuz?\\', \\'spor_dalindaki_rolunuz_nedir?\\', \\'aktif_olarak_bir_stk_uyesi_misiniz?\\', \"hangi_stk\\'nin_uyesisiniz?\", \\'stk_projesine_katildiniz_mi?\\', \\'ingilizce_biliyor_musunuz?\\', \\'ingilizce_seviyeniz?\\', \\'daha_onceden_mezun_olunduysa,_mezun_olunan_universite\\', \\'anne_sektor_encoded\\', \\'baba_sektor_encoded\\', \\'anne_Unknown\\', \\'anne_diger\\', \\'anne_kamu\\', \\'anne_ozel sektor\\', \\'baba_Unknown\\', \\'baba_diger\\', \\'baba_kamu\\', \\'baba_ozel sektor\\', \\'age\\'] not in index'"
     ]
    }
   ],
   "source": [
    "import pandas as pd\n",
    "import numpy as np\n",
    "from gensim.models import Word2Vec\n",
    "from gensim.utils import simple_preprocess\n",
    "from sklearn.preprocessing import StandardScaler\n",
    "from sklearn.feature_extraction.text import TfidfVectorizer\n",
    "from scipy.sparse import hstack\n",
    "import joblib\n",
    "\n",
    "# Load the saved models\n",
    "clf_pipeline = joblib.load('classification_model.pkl')\n",
    "reg_model = joblib.load('regression_model.pkl')\n",
    "scaler = joblib.load('scaler.pkl')\n",
    "tfidf_vectorizer = joblib.load('tfidf_vectorizer.pkl')  # Load the saved TF-IDF vectorizer\n",
    "\n",
    "# Load the Word2Vec model\n",
    "word2vec_model = Word2Vec.load('word2vec_model.pkl')\n",
    "\n",
    "# Load the test data\n",
    "test_df = pd.read_csv('test_x.csv')\n",
    "\n",
    "# Handle missing values in text columns\n",
    "text_columns = ['girisimcilikle_ilgili_deneyiminiz_var_mi?', 'girisimcilikle_ilgili_deneyiminizi_aciklayabilir_misiniz?']\n",
    "test_df[text_columns] = test_df[text_columns].fillna('')\n",
    "\n",
    "# Combine text columns into one for processing\n",
    "test_df['combined_text'] = test_df[text_columns].apply(lambda x: ' '.join(x), axis=1)\n",
    "\n",
    "# Tokenize and preprocess text data for Word2Vec\n",
    "def preprocess_text(text):\n",
    "    return simple_preprocess(text, deacc=True)\n",
    "\n",
    "# Create document vectors by averaging word vectors\n",
    "def vectorize_text(text):\n",
    "    tokens = preprocess_text(text)\n",
    "    vectors = [word2vec_model.wv[token] for token in tokens if token in word2vec_model.wv]\n",
    "    if len(vectors) == 0:\n",
    "        return np.zeros(word2vec_model.vector_size)\n",
    "    return np.mean(vectors, axis=0)\n",
    "\n",
    "# Vectorize text data\n",
    "test_df['text_vector'] = test_df['combined_text'].apply(vectorize_text)\n",
    "word2vec_features_test = np.array(test_df['text_vector'].tolist())\n",
    "\n",
    "# Vectorize test data with the fitted TF-IDF vectorizer\n",
    "tfidf_vectors_test = tfidf_vectorizer.transform(test_df['combined_text'])\n",
    "\n",
    "# Combine Word2Vec and TF-IDF features\n",
    "combined_features_test = hstack([tfidf_vectors_test, word2vec_features_test])\n",
    "\n",
    "# Prepare data for classification model\n",
    "X_cat_test = test_df[cat_features]  # Ensure cat_features is defined and matches your training data\n",
    "\n",
    "# Predict using classification model\n",
    "y_pred_cat = clf_pipeline.predict(X_cat_test)\n",
    "print(\"Classification Predictions:\\n\", y_pred_cat)\n",
    "\n",
    "# Prepare data for regression model\n",
    "X_combined_test = combined_features_test\n",
    "X_combined_test = scaler.transform(X_combined_test)\n",
    "\n",
    "# Predict using regression model\n",
    "y_pred_reg = reg_model.predict(X_combined_test)\n",
    "print(\"Regression Predictions:\\n\", y_pred_reg)\n"
   ]
  },
  {
   "cell_type": "code",
   "execution_count": null,
   "id": "f4a01311-8bfc-4b45-965b-9f4f3982d26a",
   "metadata": {},
   "outputs": [],
   "source": []
  }
 ],
 "metadata": {
  "kernelspec": {
   "display_name": "Python 3 (ipykernel)",
   "language": "python",
   "name": "python3"
  },
  "language_info": {
   "codemirror_mode": {
    "name": "ipython",
    "version": 3
   },
   "file_extension": ".py",
   "mimetype": "text/x-python",
   "name": "python",
   "nbconvert_exporter": "python",
   "pygments_lexer": "ipython3",
   "version": "3.12.4"
  }
 },
 "nbformat": 4,
 "nbformat_minor": 5
}
