{
 "cells": [
  {
   "cell_type": "code",
   "execution_count": 197,
   "id": "90f86be7-0fd7-4e47-b83a-525f77b7de53",
   "metadata": {},
   "outputs": [
    {
     "name": "stdout",
     "output_type": "stream",
     "text": [
      "Requirement already satisfied: joblib in c:\\users\\mustafa\\anaconda3\\lib\\site-packages (1.4.2)\n",
      "Note: you may need to restart the kernel to use updated packages.\n"
     ]
    }
   ],
   "source": [
    "pip install --upgrade joblib\n"
   ]
  },
  {
   "cell_type": "code",
   "execution_count": 7,
   "id": "5df68994-7fcb-4273-a65b-d8eb346e93ed",
   "metadata": {},
   "outputs": [
    {
     "ename": "NameError",
     "evalue": "name 'Word2Vec' is not defined",
     "output_type": "error",
     "traceback": [
      "\u001b[1;31m---------------------------------------------------------------------------\u001b[0m",
      "\u001b[1;31mNameError\u001b[0m                                 Traceback (most recent call last)",
      "Cell \u001b[1;32mIn[7], line 34\u001b[0m\n\u001b[0;32m     31\u001b[0m         \u001b[38;5;28;01mreturn\u001b[39;00m np\u001b[38;5;241m.\u001b[39mzeros(word2vec_model\u001b[38;5;241m.\u001b[39mvector_size)\n\u001b[0;32m     32\u001b[0m     \u001b[38;5;28;01mreturn\u001b[39;00m np\u001b[38;5;241m.\u001b[39mmean(vectors, axis\u001b[38;5;241m=\u001b[39m\u001b[38;5;241m0\u001b[39m)\n\u001b[1;32m---> 34\u001b[0m word2vec_model \u001b[38;5;241m=\u001b[39m Word2Vec\u001b[38;5;241m.\u001b[39mload(\u001b[38;5;124m'\u001b[39m\u001b[38;5;124mword2vec_model.pkl\u001b[39m\u001b[38;5;124m'\u001b[39m)  \u001b[38;5;66;03m# Load the saved Word2Vec model\u001b[39;00m\n\u001b[0;32m     36\u001b[0m test_df[\u001b[38;5;124m'\u001b[39m\u001b[38;5;124mtext_vector\u001b[39m\u001b[38;5;124m'\u001b[39m] \u001b[38;5;241m=\u001b[39m test_df[\u001b[38;5;124m'\u001b[39m\u001b[38;5;124mcombined_text\u001b[39m\u001b[38;5;124m'\u001b[39m]\u001b[38;5;241m.\u001b[39mapply(vectorize_text)\n\u001b[0;32m     37\u001b[0m word2vec_features_test \u001b[38;5;241m=\u001b[39m np\u001b[38;5;241m.\u001b[39marray(test_df[\u001b[38;5;124m'\u001b[39m\u001b[38;5;124mtext_vector\u001b[39m\u001b[38;5;124m'\u001b[39m]\u001b[38;5;241m.\u001b[39mtolist())\n",
      "\u001b[1;31mNameError\u001b[0m: name 'Word2Vec' is not defined"
     ]
    }
   ],
   "source": [
    "import pandas as pd\n",
    "import numpy as np\n",
    "from sklearn.preprocessing import StandardScaler\n",
    "from sklearn.feature_extraction.text import TfidfVectorizer\n",
    "from scipy.sparse import hstack\n",
    "import joblib\n",
    "\n",
    "# Load saved models\n",
    "clf_pipeline = joblib.load('classification_model.pkl')\n",
    "reg_model = joblib.load('regression_model.pkl')\n",
    "scaler = joblib.load('scaler.pkl')\n",
    "\n",
    "# Load the test data\n",
    "test_df = pd.read_csv('test_x.csv')\n",
    "\n",
    "# Handle missing values in text columns\n",
    "text_columns = ['girisimcilikle_ilgili_deneyiminiz_var_mi?', 'girisimcilikle_ilgili_deneyiminizi_aciklayabilir_misiniz?']\n",
    "test_df[text_columns] = test_df[text_columns].fillna('')\n",
    "\n",
    "# Combine text columns into one for processing\n",
    "test_df['combined_text'] = test_df[text_columns].apply(lambda x: ' '.join(x), axis=1)\n",
    "\n",
    "# Vectorize text data\n",
    "def preprocess_text(text):\n",
    "    return simple_preprocess(text, deacc=True)\n",
    "\n",
    "def vectorize_text(text):\n",
    "    tokens = preprocess_text(text)\n",
    "    vectors = [word2vec_model.wv[token] for token in tokens if token in word2vec_model.wv]\n",
    "    if len(vectors) == 0:\n",
    "        return np.zeros(word2vec_model.vector_size)\n",
    "    return np.mean(vectors, axis=0)\n",
    "\n",
    "word2vec_model = Word2Vec.load('word2vec_model.pkl')  # Load the saved Word2Vec model\n",
    "\n",
    "test_df['text_vector'] = test_df['combined_text'].apply(vectorize_text)\n",
    "word2vec_features_test = np.array(test_df['text_vector'].tolist())\n",
    "\n",
    "# TF-IDF Vectorization\n",
    "tfidf_vectorizer = joblib.load('tfidf_vectorizer.pkl')  # Load the saved TF-IDF vectorizer\n",
    "tfidf_vectors_test = tfidf_vectorizer.transform(test_df['combined_text'])\n",
    "\n",
    "# Combine Word2Vec and TF-IDF features\n",
    "combined_features_test = hstack([tfidf_vectors_test, word2vec_features_test])\n",
    "\n",
    "# Prepare data for classification model\n",
    "X_cat_test = test_df[cat_features]\n",
    "\n",
    "# Predict using classification model\n",
    "y_pred_cat = clf_pipeline.predict(X_cat_test)\n",
    "print(\"Classification Predictions:\\n\", y_pred_cat)\n",
    "\n",
    "# Prepare data for regression model\n",
    "X_combined_test = combined_features_test\n",
    "X_combined_test = scaler.transform(X_combined_test)\n",
    "\n",
    "# Predict using regression model\n",
    "y_pred_reg = reg_model.predict(X_combined_test)\n",
    "print(\"Regression Predictions:\\n\", y_pred_reg)\n"
   ]
  },
  {
   "cell_type": "code",
   "execution_count": null,
   "id": "f4a01311-8bfc-4b45-965b-9f4f3982d26a",
   "metadata": {},
   "outputs": [],
   "source": []
  }
 ],
 "metadata": {
  "kernelspec": {
   "display_name": "Python 3 (ipykernel)",
   "language": "python",
   "name": "python3"
  },
  "language_info": {
   "codemirror_mode": {
    "name": "ipython",
    "version": 3
   },
   "file_extension": ".py",
   "mimetype": "text/x-python",
   "name": "python",
   "nbconvert_exporter": "python",
   "pygments_lexer": "ipython3",
   "version": "3.12.4"
  }
 },
 "nbformat": 4,
 "nbformat_minor": 5
}
