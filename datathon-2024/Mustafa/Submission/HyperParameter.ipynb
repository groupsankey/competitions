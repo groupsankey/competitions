{
 "cells": [
  {
   "cell_type": "code",
   "execution_count": null,
   "id": "72e4955f-4518-456d-932d-eae91301d5b8",
   "metadata": {},
   "outputs": [
    {
     "name": "stdout",
     "output_type": "stream",
     "text": [
      "Fitting 3 folds for each of 20 candidates, totalling 60 fits\n"
     ]
    }
   ],
   "source": [
    "from sklearn.model_selection import RandomizedSearchCV\n",
    "from catboost import CatBoostRegressor\n",
    "import numpy as np\n",
    "\n",
    "# Define the parameter grid for RandomizedSearchCV\n",
    "param_dist = {\n",
    "    'iterations': [1000, 1500, 2000, 2500],  # Number of boosting iterations\n",
    "    'learning_rate': [0.01, 0.05, 0.1, 0.2],  # Learning rate\n",
    "    'depth': [4, 6, 8, 10],  # Depth of trees\n",
    "    'l2_leaf_reg': [1, 3, 5, 7, 9],  # L2 regularization coefficient\n",
    "    'bagging_temperature': [0, 0.2, 0.5, 1.0],  # Bagging temperature\n",
    "    'border_count': [32, 64, 128],  # Number of splits for features\n",
    "    'grow_policy': ['SymmetricTree', 'Depthwise', 'Lossguide'],  # Tree growing policy\n",
    "}\n",
    "\n",
    "# Initialize the CatBoostRegressor\n",
    "catboost_model = CatBoostRegressor(loss_function='RMSE', eval_metric='RMSE', random_seed=42, verbose=100, early_stopping_rounds=500)\n",
    "\n",
    "# Initialize RandomizedSearchCV\n",
    "random_search = RandomizedSearchCV(\n",
    "    estimator=catboost_model,\n",
    "    param_distributions=param_dist,\n",
    "    n_iter=20,  # Number of iterations for random search\n",
    "    scoring='neg_mean_squared_error',  # Scoring metric\n",
    "    cv=3,  # Cross-validation folds\n",
    "    verbose=3,\n",
    "    random_state=42,\n",
    "    n_jobs=-1  # Use all processors\n",
    ")\n",
    "\n",
    "# Perform hyperparameter tuning\n",
    "random_search.fit(X_train, y_train)\n",
    "\n",
    "# Print the best parameters and the best score\n",
    "print(f\"Best parameters found: {random_search.best_params_}\")\n",
    "print(f\"Best RMSE score: {(-random_search.best_score_)**0.5:.4f}\")\n",
    "\n",
    "# Get the best estimator (model with the best found parameters)\n",
    "best_catboost_model = random_search.best_estimator_\n",
    "\n",
    "# Evaluate the best model on the test set\n",
    "y_pred_reg_best = best_catboost_model.predict(X_test)\n",
    "mse_best = mean_squared_error(y_test, y_pred_reg_best)\n",
    "rmse_best = mse_best ** 0.5\n",
    "print(f'Regression Model RMSE with Best Parameters: {rmse_best:.4f}')\n"
   ]
  },
  {
   "cell_type": "code",
   "execution_count": null,
   "id": "a9e3863b-6700-4c1c-8068-23687504fea1",
   "metadata": {},
   "outputs": [],
   "source": []
  }
 ],
 "metadata": {
  "kernelspec": {
   "display_name": "Python 3 (ipykernel)",
   "language": "python",
   "name": "python3"
  },
  "language_info": {
   "codemirror_mode": {
    "name": "ipython",
    "version": 3
   },
   "file_extension": ".py",
   "mimetype": "text/x-python",
   "name": "python",
   "nbconvert_exporter": "python",
   "pygments_lexer": "ipython3",
   "version": "3.12.4"
  }
 },
 "nbformat": 4,
 "nbformat_minor": 5
}
