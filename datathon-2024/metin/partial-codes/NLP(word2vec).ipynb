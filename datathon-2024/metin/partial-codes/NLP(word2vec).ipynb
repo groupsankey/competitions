{
 "cells": [
  {
   "cell_type": "code",
   "execution_count": 4,
   "id": "e2867e09-1f74-48fb-800a-b9f7c64d8b28",
   "metadata": {},
   "outputs": [
    {
     "name": "stderr",
     "output_type": "stream",
     "text": [
      "/var/folders/0p/hymvzzjx3cb75ylj_41b1d8h0000gn/T/ipykernel_73641/643811995.py:11: DtypeWarning: Columns (13,15,19,30,32,37,41,42) have mixed types. Specify dtype option on import or set low_memory=False.\n",
      "  df = pd.read_csv('train.csv')\n"
     ]
    },
    {
     "name": "stdout",
     "output_type": "stream",
     "text": [
      "Mean Squared Error: 283.37\n",
      "\n",
      "Sample Actual vs. Predicted Values:\n",
      "Actual: 36.0, Predicted: 41.532094513297814\n",
      "Actual: 68.0, Predicted: 42.848110594715045\n",
      "Actual: 7.0, Predicted: 28.271996836870194\n",
      "Actual: 30.0, Predicted: 44.11563740836077\n",
      "Actual: 11.0, Predicted: 28.271996836870194\n",
      "Actual: 46.0, Predicted: 27.320539015448325\n",
      "Actual: 31.0, Predicted: 28.271996836870194\n",
      "Actual: 21.0, Predicted: 43.87453393452943\n",
      "Actual: 15.0, Predicted: 28.271996836870194\n",
      "Actual: 15.0, Predicted: 27.320539015448325\n"
     ]
    },
    {
     "data": {
      "text/plain": [
       "['scaler.pkl']"
      ]
     },
     "execution_count": 4,
     "metadata": {},
     "output_type": "execute_result"
    }
   ],
   "source": [
    "import pandas as pd\n",
    "import numpy as np\n",
    "from sklearn.model_selection import train_test_split\n",
    "from sklearn.preprocessing import StandardScaler\n",
    "from sklearn.linear_model import LinearRegression\n",
    "from sklearn.metrics import mean_squared_error\n",
    "from gensim.models import Word2Vec\n",
    "from gensim.utils import simple_preprocess\n",
    "\n",
    "# Load the data\n",
    "df = pd.read_csv('train.csv')\n",
    "\n",
    "# Extract the relevant columns\n",
    "text_columns = [\n",
    "    'Girisimcilikle Ilgili Deneyiminiz Var Mi?',\n",
    "    'Girisimcilikle Ilgili Deneyiminizi Aciklayabilir misiniz?'\n",
    "]\n",
    "target_column = 'Degerlendirme Puani'\n",
    "\n",
    "# Drop rows with missing target values\n",
    "df = df.dropna(subset=[target_column])\n",
    "\n",
    "# Fill missing values in text columns with empty strings\n",
    "df[text_columns] = df[text_columns].fillna('')\n",
    "\n",
    "# Combine text columns into one for processing\n",
    "df['combined_text'] = df[text_columns].apply(lambda x: ' '.join(x), axis=1)\n",
    "\n",
    "# Tokenize and preprocess the text data\n",
    "def preprocess_text(text):\n",
    "    return simple_preprocess(text, deacc=True)\n",
    "\n",
    "# Prepare the Word2Vec model\n",
    "sentences = [preprocess_text(text) for text in df['combined_text']]\n",
    "word2vec_model = Word2Vec(sentences, vector_size=100, window=5, min_count=1, workers=4)\n",
    "\n",
    "# Create document vectors by averaging word vectors\n",
    "def vectorize_text(text):\n",
    "    tokens = preprocess_text(text)\n",
    "    vectors = [word2vec_model.wv[token] for token in tokens if token in word2vec_model.wv]\n",
    "    if len(vectors) == 0:\n",
    "        return np.zeros(word2vec_model.vector_size)\n",
    "    return np.mean(vectors, axis=0)\n",
    "\n",
    "df['text_vector'] = df['combined_text'].apply(vectorize_text)\n",
    "X = np.array(df['text_vector'].tolist())\n",
    "y = df[target_column]\n",
    "\n",
    "# Split the data into training and testing sets\n",
    "X_train, X_test, y_train, y_test = train_test_split(X, y, test_size=0.2, random_state=42)\n",
    "\n",
    "# Standardize the features\n",
    "scaler = StandardScaler()\n",
    "X_train = scaler.fit_transform(X_train)\n",
    "X_test = scaler.transform(X_test)\n",
    "\n",
    "# Train the regression model\n",
    "model = LinearRegression()\n",
    "model.fit(X_train, y_train)\n",
    "\n",
    "# Predict on the test set\n",
    "y_pred = model.predict(X_test)\n",
    "\n",
    "# Evaluate the model\n",
    "mse = mean_squared_error(y_test, y_pred)\n",
    "print(f'Mean Squared Error: {mse:.2f}')\n",
    "\n",
    "# Print actual vs predicted values\n",
    "print(\"\\nSample Actual vs. Predicted Values:\")\n",
    "for actual, predicted in zip(y_test.head(10), y_pred[:10]):\n",
    "    print(f\"Actual: {actual}, Predicted: {predicted}\")\n",
    "\n",
    "# Optionally, save the model for future use\n",
    "import joblib\n",
    "joblib.dump(model, 'regression_model.pkl')\n",
    "joblib.dump(scaler, 'scaler.pkl')\n"
   ]
  }
 ],
 "metadata": {
  "kernelspec": {
   "display_name": "Python 3 (ipykernel)",
   "language": "python",
   "name": "python3"
  },
  "language_info": {
   "codemirror_mode": {
    "name": "ipython",
    "version": 3
   },
   "file_extension": ".py",
   "mimetype": "text/x-python",
   "name": "python",
   "nbconvert_exporter": "python",
   "pygments_lexer": "ipython3",
   "version": "3.12.4"
  }
 },
 "nbformat": 4,
 "nbformat_minor": 5
}
