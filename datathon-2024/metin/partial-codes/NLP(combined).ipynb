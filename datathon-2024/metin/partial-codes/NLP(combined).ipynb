{
 "cells": [
  {
   "cell_type": "code",
   "execution_count": 2,
   "id": "540ce9bb-d92e-4634-b326-18c228080dc9",
   "metadata": {},
   "outputs": [
    {
     "name": "stderr",
     "output_type": "stream",
     "text": [
      "/var/folders/0p/hymvzzjx3cb75ylj_41b1d8h0000gn/T/ipykernel_80508/2610565008.py:13: DtypeWarning: Columns (13,15,19,30,32,37,41,42) have mixed types. Specify dtype option on import or set low_memory=False.\n",
      "  df = pd.read_csv('train.csv')\n"
     ]
    },
    {
     "name": "stdout",
     "output_type": "stream",
     "text": [
      "Mean Squared Error: 284.30\n",
      "\n",
      "Sample Actual vs. Predicted Values:\n",
      "Actual: 36.0, Predicted: 38.28853832300412\n",
      "Actual: 68.0, Predicted: 47.80804211174352\n",
      "Actual: 7.0, Predicted: 28.272426864511054\n",
      "Actual: 30.0, Predicted: 42.575595332689936\n",
      "Actual: 11.0, Predicted: 28.272426864511054\n",
      "Actual: 46.0, Predicted: 27.157834694483533\n",
      "Actual: 31.0, Predicted: 28.272426864511054\n",
      "Actual: 21.0, Predicted: 44.002439195740344\n",
      "Actual: 15.0, Predicted: 28.272426864511054\n",
      "Actual: 15.0, Predicted: 27.157834694483533\n"
     ]
    },
    {
     "data": {
      "text/plain": [
       "['combined_scaler.pkl']"
      ]
     },
     "execution_count": 2,
     "metadata": {},
     "output_type": "execute_result"
    }
   ],
   "source": [
    "import pandas as pd\n",
    "import numpy as np\n",
    "from sklearn.model_selection import train_test_split\n",
    "from sklearn.preprocessing import StandardScaler\n",
    "from sklearn.linear_model import LinearRegression\n",
    "from sklearn.metrics import mean_squared_error\n",
    "from gensim.models import Word2Vec\n",
    "from gensim.utils import simple_preprocess\n",
    "from sklearn.feature_extraction.text import TfidfVectorizer\n",
    "from scipy.sparse import hstack\n",
    "\n",
    "# Load the data\n",
    "df = pd.read_csv('train.csv')\n",
    "\n",
    "# Extract the relevant columns\n",
    "text_columns = [\n",
    "    'Girisimcilikle Ilgili Deneyiminiz Var Mi?',\n",
    "    'Girisimcilikle Ilgili Deneyiminizi Aciklayabilir misiniz?'\n",
    "]\n",
    "target_column = 'Degerlendirme Puani'\n",
    "\n",
    "# Drop rows with missing target values\n",
    "df = df.dropna(subset=[target_column])\n",
    "\n",
    "# Fill missing values in text columns with empty strings\n",
    "df[text_columns] = df[text_columns].fillna('')\n",
    "\n",
    "# Combine text columns into one for processing\n",
    "df['combined_text'] = df[text_columns].apply(lambda x: ' '.join(x), axis=1)\n",
    "\n",
    "# Tokenize and preprocess the text data for Word2Vec\n",
    "def preprocess_text(text):\n",
    "    return simple_preprocess(text, deacc=True)\n",
    "\n",
    "# Prepare the Word2Vec model\n",
    "sentences = [preprocess_text(text) for text in df['combined_text']]\n",
    "word2vec_model = Word2Vec(sentences, vector_size=100, window=5, min_count=1, workers=4)\n",
    "\n",
    "# Create document vectors by averaging word vectors\n",
    "def vectorize_text(text):\n",
    "    tokens = preprocess_text(text)\n",
    "    vectors = [word2vec_model.wv[token] for token in tokens if token in word2vec_model.wv]\n",
    "    if len(vectors) == 0:\n",
    "        return np.zeros(word2vec_model.vector_size)\n",
    "    return np.mean(vectors, axis=0)\n",
    "\n",
    "df['text_vector'] = df['combined_text'].apply(vectorize_text)\n",
    "word2vec_features = np.array(df['text_vector'].tolist())\n",
    "\n",
    "# TF-IDF Vectorization\n",
    "text_data = df['combined_text']\n",
    "tfidf_vectorizer = TfidfVectorizer(max_features=1000)\n",
    "tfidf_vectors = tfidf_vectorizer.fit_transform(text_data)\n",
    "\n",
    "# Combine Word2Vec and TF-IDF features\n",
    "combined_features = hstack([tfidf_vectors, word2vec_features])\n",
    "\n",
    "# Target variable\n",
    "y = df[target_column]\n",
    "\n",
    "# Split the data into training and testing sets\n",
    "X_train, X_test, y_train, y_test = train_test_split(combined_features, y, test_size=0.2, random_state=42)\n",
    "\n",
    "# Standardize the features\n",
    "scaler = StandardScaler(with_mean=False)\n",
    "X_train = scaler.fit_transform(X_train)\n",
    "X_test = scaler.transform(X_test)\n",
    "\n",
    "# Train the regression model\n",
    "model = LinearRegression()\n",
    "model.fit(X_train, y_train)\n",
    "\n",
    "# Predict on the test set\n",
    "y_pred = model.predict(X_test)\n",
    "\n",
    "# Evaluate the model\n",
    "mse = mean_squared_error(y_test, y_pred)\n",
    "print(f'Mean Squared Error: {mse:.2f}')\n",
    "\n",
    "# Print actual vs predicted values\n",
    "print(\"\\nSample Actual vs. Predicted Values:\")\n",
    "for actual, predicted in zip(y_test.head(10), y_pred[:10]):\n",
    "    print(f\"Actual: {actual}, Predicted: {predicted}\")\n",
    "\n",
    "# Optionally, save the model for future use\n",
    "import joblib\n",
    "joblib.dump(model, 'combined_regression_model.pkl')\n",
    "joblib.dump(scaler, 'combined_scaler.pkl')\n"
   ]
  },
  {
   "cell_type": "code",
   "execution_count": 3,
   "id": "96cd80b8-7c5f-49cb-93c4-019faad9a98f",
   "metadata": {},
   "outputs": [
    {
     "ename": "NameError",
     "evalue": "name 'target' is not defined",
     "output_type": "error",
     "traceback": [
      "\u001b[0;31m---------------------------------------------------------------------------\u001b[0m",
      "\u001b[0;31mNameError\u001b[0m                                 Traceback (most recent call last)",
      "Cell \u001b[0;32mIn[3], line 23\u001b[0m\n\u001b[1;32m     21\u001b[0m \u001b[38;5;66;03m# Grid search for best hyperparameters\u001b[39;00m\n\u001b[1;32m     22\u001b[0m grid_search \u001b[38;5;241m=\u001b[39m GridSearchCV(pipeline, param_grid, cv\u001b[38;5;241m=\u001b[39m\u001b[38;5;241m5\u001b[39m, scoring\u001b[38;5;241m=\u001b[39m\u001b[38;5;124m'\u001b[39m\u001b[38;5;124mneg_mean_squared_error\u001b[39m\u001b[38;5;124m'\u001b[39m)\n\u001b[0;32m---> 23\u001b[0m grid_search\u001b[38;5;241m.\u001b[39mfit(text_data, target)\n\u001b[1;32m     25\u001b[0m \u001b[38;5;66;03m# Best model and parameters\u001b[39;00m\n\u001b[1;32m     26\u001b[0m best_model \u001b[38;5;241m=\u001b[39m grid_search\u001b[38;5;241m.\u001b[39mbest_estimator_\n",
      "\u001b[0;31mNameError\u001b[0m: name 'target' is not defined"
     ]
    }
   ],
   "source": [
    "from sklearn.linear_model import Ridge\n",
    "from sklearn.model_selection import GridSearchCV\n",
    "from sklearn.pipeline import Pipeline\n",
    "from sklearn.feature_extraction.text import TfidfVectorizer\n",
    "from sklearn.preprocessing import StandardScaler\n",
    "from scipy.sparse import hstack\n",
    "\n",
    "# Define a pipeline to simplify the process\n",
    "pipeline = Pipeline([\n",
    "    ('tfidf', TfidfVectorizer(max_features=1000)),\n",
    "    ('scaler', StandardScaler(with_mean=False)),\n",
    "    ('regressor', Ridge())\n",
    "])\n",
    "\n",
    "# Parameter grid for GridSearchCV\n",
    "param_grid = {\n",
    "    'tfidf__max_features': [500, 1000, 1500],\n",
    "    'regressor__alpha': [0.1, 1, 10]\n",
    "}\n",
    "\n",
    "# Grid search for best hyperparameters\n",
    "grid_search = GridSearchCV(pipeline, param_grid, cv=5, scoring='neg_mean_squared_error')\n",
    "grid_search.fit(text_data, target)\n",
    "\n",
    "# Best model and parameters\n",
    "best_model = grid_search.best_estimator_\n",
    "print(f\"Best Parameters: {grid_search.best_params_}\")\n",
    "\n",
    "# Evaluate on test set\n",
    "y_pred = best_model.predict(X_test)\n",
    "mse = mean_squared_error(y_test, y_pred)\n",
    "print(f'Mean Squared Error: {mse:.2f}')\n",
    "\n"
   ]
  }
 ],
 "metadata": {
  "kernelspec": {
   "display_name": "Python 3 (ipykernel)",
   "language": "python",
   "name": "python3"
  },
  "language_info": {
   "codemirror_mode": {
    "name": "ipython",
    "version": 3
   },
   "file_extension": ".py",
   "mimetype": "text/x-python",
   "name": "python",
   "nbconvert_exporter": "python",
   "pygments_lexer": "ipython3",
   "version": "3.12.4"
  }
 },
 "nbformat": 4,
 "nbformat_minor": 5
}
