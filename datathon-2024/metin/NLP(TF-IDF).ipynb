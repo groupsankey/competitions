{
 "cells": [
  {
   "cell_type": "code",
   "execution_count": 5,
   "id": "f08924ad-18f9-4e56-800c-179e1b91bfea",
   "metadata": {},
   "outputs": [
    {
     "name": "stderr",
     "output_type": "stream",
     "text": [
      "/var/folders/0p/hymvzzjx3cb75ylj_41b1d8h0000gn/T/ipykernel_67288/3991697990.py:10: DtypeWarning: Columns (13,15,19,30,32,37,41,42) have mixed types. Specify dtype option on import or set low_memory=False.\n",
      "  train_df = pd.read_csv(\"train.csv\")\n"
     ]
    },
    {
     "name": "stdout",
     "output_type": "stream",
     "text": [
      "Mean Squared Error: 315.77\n",
      "Actual: 36.0, Predicted: 36.71044057145474\n",
      "Actual: 68.0, Predicted: 44.85462039566596\n",
      "Actual: 7.0, Predicted: 30.602363972883687\n",
      "Actual: 30.0, Predicted: 41.16338201405769\n",
      "Actual: 11.0, Predicted: 30.602363972883687\n",
      "Actual: 46.0, Predicted: 30.602363972883687\n",
      "Actual: 31.0, Predicted: 30.602363972883687\n",
      "Actual: 21.0, Predicted: 30.602363972883687\n",
      "Actual: 15.0, Predicted: 30.602363972883687\n",
      "Actual: 15.0, Predicted: 30.602363972883687\n"
     ]
    }
   ],
   "source": [
    "import pandas as pd\n",
    "from sklearn.feature_extraction.text import TfidfVectorizer\n",
    "from sklearn.preprocessing import StandardScaler\n",
    "from sklearn.linear_model import LinearRegression\n",
    "from sklearn.model_selection import train_test_split\n",
    "from sklearn.metrics import mean_squared_error\n",
    "import numpy as np\n",
    "\n",
    "# Load the CSV file\n",
    "train_df = pd.read_csv(\"train.csv\")\n",
    "\n",
    "# Drop rows where the target column 'Degerlendirme Puani' is NaN\n",
    "train_df = train_df.dropna(subset=['Degerlendirme Puani'])\n",
    "\n",
    "# Extract the target variable\n",
    "target = train_df['Degerlendirme Puani']\n",
    "\n",
    "# Handle missing values in the text column by filling with empty strings\n",
    "text_data = train_df['Girisimcilikle Ilgili Deneyiminizi Aciklayabilir misiniz?'].fillna(\"\")\n",
    "\n",
    "# Vectorize the text data using TF-IDF\n",
    "tfidf_vectorizer = TfidfVectorizer(max_features=1000)\n",
    "tfidf_vectors = tfidf_vectorizer.fit_transform(text_data)\n",
    "\n",
    "# Optional: Scale the TF-IDF features if needed (generally not required but can be useful in some cases)\n",
    "# scaler = StandardScaler(with_mean=False)  # StandardScaler can't handle sparse matrices with mean centering\n",
    "# tfidf_vectors = scaler.fit_transform(tfidf_vectors)\n",
    "\n",
    "# Combine TF-IDF features with any other numeric features (if you have any)\n",
    "# In this case, we are only using TF-IDF features\n",
    "combined_features = tfidf_vectors\n",
    "\n",
    "# Split the data into training and testing sets\n",
    "X_train, X_test, y_train, y_test = train_test_split(combined_features, target, test_size=0.2, random_state=42)\n",
    "\n",
    "# Initialize and train the Linear Regression model\n",
    "model = LinearRegression()\n",
    "model.fit(X_train, y_train)\n",
    "\n",
    "# Make predictions on the test set\n",
    "y_pred = model.predict(X_test)\n",
    "\n",
    "# Evaluate the model's performance\n",
    "mse = mean_squared_error(y_test, y_pred)\n",
    "print(f\"Mean Squared Error: {mse:.2f}\")\n",
    "\n",
    "# Optionally, print some predictions vs actual values\n",
    "for actual, pred in zip(y_test.head(10), y_pred[:10]):\n",
    "    print(f\"Actual: {actual}, Predicted: {pred}\")\n",
    "\n"
   ]
  }
 ],
 "metadata": {
  "kernelspec": {
   "display_name": "Python 3 (ipykernel)",
   "language": "python",
   "name": "python3"
  },
  "language_info": {
   "codemirror_mode": {
    "name": "ipython",
    "version": 3
   },
   "file_extension": ".py",
   "mimetype": "text/x-python",
   "name": "python",
   "nbconvert_exporter": "python",
   "pygments_lexer": "ipython3",
   "version": "3.12.4"
  }
 },
 "nbformat": 4,
 "nbformat_minor": 5
}
