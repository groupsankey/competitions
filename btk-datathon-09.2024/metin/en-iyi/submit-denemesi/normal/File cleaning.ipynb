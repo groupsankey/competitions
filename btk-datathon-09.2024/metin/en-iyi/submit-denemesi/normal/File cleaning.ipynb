{
 "cells": [
  {
   "cell_type": "code",
   "execution_count": 3,
   "id": "2c4622da-8090-4d99-afc0-91d6c9589d34",
   "metadata": {},
   "outputs": [],
   "source": [
    "import pandas as pd"
   ]
  },
  {
   "cell_type": "code",
   "execution_count": 11,
   "id": "edfa62c2-bef6-4966-8129-4f79b3bcbb43",
   "metadata": {},
   "outputs": [],
   "source": [
    "train = pd.read_csv(\"cleanedData.csv\")\n",
    "test = pd.read_csv(\"cleanedTest.csv\")\n",
    "\n",
    "train = train.drop(['burslu_ise_burs_yuzdesi', 'daha_once_baska_bir_universiteden_mezun_olmus', 'lise_adi_diger', 'lise_bolum_diger',\n",
    "              'uye_oldugunuz_kulubun_ismi', 'stk_projesine_katildiniz_mi?', 'ingilizce_seviyeniz?',\n",
    "              'daha_onceden_mezun_olunduysa_mezun_olunan_universite'], axis=1)\n",
    "\n",
    "test = test.drop(['burslu_ise_burs_yuzdesi', 'daha_once_baska_bir_universiteden_mezun_olmus', 'lise_adi_diger', 'lise_bolum_diger',\n",
    "              'uye_oldugunuz_kulubun_ismi', 'stk_projesine_katildiniz_mi?', 'ingilizce_seviyeniz?',\n",
    "              'daha_onceden_mezun_olunduysa_mezun_olunan_universite'], axis=1)\n",
    "train.to_csv(\"TrainDataEnSon.csv\")\n",
    "test.to_csv(\"TestDataEnSon.csv\")"
   ]
  },
  {
   "cell_type": "code",
   "execution_count": null,
   "id": "42c4b2cb-3da0-4beb-a68f-96a64fd33429",
   "metadata": {},
   "outputs": [],
   "source": []
  }
 ],
 "metadata": {
  "kernelspec": {
   "display_name": "Python 3 (ipykernel)",
   "language": "python",
   "name": "python3"
  },
  "language_info": {
   "codemirror_mode": {
    "name": "ipython",
    "version": 3
   },
   "file_extension": ".py",
   "mimetype": "text/x-python",
   "name": "python",
   "nbconvert_exporter": "python",
   "pygments_lexer": "ipython3",
   "version": "3.12.4"
  }
 },
 "nbformat": 4,
 "nbformat_minor": 5
}
