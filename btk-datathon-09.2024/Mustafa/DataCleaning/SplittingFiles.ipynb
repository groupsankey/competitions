{
 "cells": [
  {
   "cell_type": "code",
   "execution_count": 21,
   "id": "50e51ed5-8dc5-4e7b-a0b8-bc5ddcc80267",
   "metadata": {},
   "outputs": [],
   "source": [
    "import csv\n",
    "\n",
    "def write_csv(filename, data, header=None):\n",
    "    with open(filename, 'w', newline='', encoding='utf-8') as file:\n",
    "        writer = csv.writer(file)\n",
    "        if header:\n",
    "            writer.writerow(header)\n",
    "        writer.writerows(data)\n",
    "\n",
    "def split_csv(filename, num_rows, has_header=True):\n",
    "    name, extension = filename.rsplit('.', 1)\n",
    "    file_no = 1\n",
    "    chunk = []\n",
    "    row_count = 0\n",
    "\n",
    "    with open(filename, 'r', encoding='utf-8') as file:  # Specify utf-8 encoding\n",
    "        reader = csv.reader(file)\n",
    "        \n",
    "        # Handle the header if it exists\n",
    "        if has_header:\n",
    "            header = next(reader)\n",
    "\n",
    "        for row in reader:\n",
    "            chunk.append(row)\n",
    "            row_count += 1\n",
    "\n",
    "            # Once chunk reaches desired number of rows, write to file\n",
    "            if row_count >= num_rows:\n",
    "                write_csv(f'{name}-{file_no}.{extension}', chunk, header if has_header else None)\n",
    "                chunk = []\n",
    "                file_no += 1\n",
    "                row_count = 0\n",
    "\n",
    "        # Write any remaining rows\n",
    "        if chunk:\n",
    "            write_csv(f'{name}-{file_no}.{extension}', chunk, header if has_header else None)\n",
    "\n",
    "split_csv(\"cleanedData.csv\", 59111)\n"
   ]
  },
  {
   "cell_type": "code",
   "execution_count": null,
   "id": "02dac92b-9592-41df-a94b-fc37ff97f1ff",
   "metadata": {},
   "outputs": [],
   "source": []
  }
 ],
 "metadata": {
  "kernelspec": {
   "display_name": "Python 3 (ipykernel)",
   "language": "python",
   "name": "python3"
  },
  "language_info": {
   "codemirror_mode": {
    "name": "ipython",
    "version": 3
   },
   "file_extension": ".py",
   "mimetype": "text/x-python",
   "name": "python",
   "nbconvert_exporter": "python",
   "pygments_lexer": "ipython3",
   "version": "3.12.4"
  }
 },
 "nbformat": 4,
 "nbformat_minor": 5
}
